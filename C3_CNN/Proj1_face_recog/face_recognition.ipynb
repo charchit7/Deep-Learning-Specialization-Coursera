{
 "metadata": {
  "language_info": {
   "codemirror_mode": {
    "name": "ipython",
    "version": 3
   },
   "file_extension": ".py",
   "mimetype": "text/x-python",
   "name": "python",
   "nbconvert_exporter": "python",
   "pygments_lexer": "ipython3",
   "version": "3.9.5"
  },
  "orig_nbformat": 4,
  "kernelspec": {
   "name": "python3",
   "display_name": "Python 3.9.5 64-bit ('mark1': conda)"
  },
  "interpreter": {
   "hash": "842e6a94f7b00bd88c2d2a2fc81dcd9f0ee99928f96e0f860dbda703cd7a4701"
  }
 },
 "nbformat": 4,
 "nbformat_minor": 2,
 "cells": [
  {
   "cell_type": "code",
   "execution_count": 1,
   "metadata": {},
   "outputs": [],
   "source": [
    "from tensorflow.keras.models import Sequential\n",
    "from tensorflow.keras.layers import Conv2D, ZeroPadding2D, Activation, Input, concatenate\n",
    "from tensorflow.keras.models import Model\n",
    "from tensorflow.keras.layers import BatchNormalization\n",
    "from tensorflow.keras.layers import MaxPooling2D, AveragePooling2D\n",
    "from tensorflow.keras.layers import Concatenate\n",
    "from tensorflow.keras.layers import Lambda, Flatten, Dense\n",
    "from tensorflow.keras.initializers import glorot_uniform\n",
    "from tensorflow.keras.layers import Layer\n",
    "from tensorflow.keras import backend as K\n",
    "K.set_image_data_format('channels_last')\n",
    "import os\n",
    "import numpy as np\n",
    "from numpy import genfromtxt\n",
    "import pandas as pd\n",
    "import tensorflow as tf\n",
    "import PIL\n",
    "\n",
    "%matplotlib inline\n",
    "%load_ext autoreload\n",
    "%autoreload 2"
   ]
  },
  {
   "cell_type": "code",
   "execution_count": 16,
   "metadata": {},
   "outputs": [
    {
     "output_type": "stream",
     "name": "stdout",
     "text": [
      "WARNING:tensorflow:No training configuration found in save file, so the model was *not* compiled. Compile it manually.\n"
     ]
    }
   ],
   "source": [
    "#load the model and pre-trained weights\n",
    "from tensorflow.keras.models import model_from_json\n",
    "from inception_blocks_v2 import faceRecoModel\n",
    "from tensorflow import keras\n",
    "\n",
    "input_size = (3,160,160)\n",
    "# json_file = open('/home/charchit/Desktop/DLS/face_recog/files/model.json','r')\n",
    "# loaded_model_json = json_file.read()  \n",
    "# json_file.close()\n",
    "# model = model_from_json(loaded_model_json)\n",
    "# model = faceRecoModel(input_size)\n",
    "# model.load_weights('/home/charchit/Desktop/DLS/face_recog/files/model.h5')\n",
    "model = keras.models.load_model('/home/charchit/Desktop/DLS/face_recog/files/model_data/')"
   ]
  },
  {
   "cell_type": "code",
   "execution_count": 18,
   "metadata": {
    "tags": []
   },
   "outputs": [
    {
     "output_type": "execute_result",
     "data": {
      "text/plain": [
       "[<KerasTensor: shape=(None, 160, 160, 3) dtype=float32 (created by layer 'input_1')>]"
      ]
     },
     "metadata": {},
     "execution_count": 18
    }
   ],
   "source": [
    "model.inputs"
   ]
  },
  {
   "cell_type": "code",
   "execution_count": 52,
   "metadata": {},
   "outputs": [],
   "source": [
    "#model alias\n",
    "FaceRecogModel = model\n"
   ]
  },
  {
   "cell_type": "code",
   "execution_count": 21,
   "metadata": {},
   "outputs": [
    {
     "output_type": "execute_result",
     "data": {
      "text/plain": [
       "'/home/charchit/Desktop/DLS/face_recog'"
      ]
     },
     "metadata": {},
     "execution_count": 21
    }
   ],
   "source": [
    "pwd"
   ]
  },
  {
   "cell_type": "code",
   "execution_count": 22,
   "metadata": {},
   "outputs": [],
   "source": [
    "aman_image_path = '/home/charchit/Desktop/DLS/face_recog/dataset/aman/aman8.jpg'\n",
    "charchit_image_path = '/home/charchit/Desktop/DLS/face_recog/dataset/charchit/charchit0.png'\n",
    "mummy_image_path = '/home/charchit/Desktop/DLS/face_recog/dataset/mummy/mummy6.jpg'\n",
    "papa_image_path = '/home/charchit/Desktop/DLS/face_recog/dataset/papa/papa0.jpg'"
   ]
  },
  {
   "cell_type": "code",
   "execution_count": 30,
   "metadata": {},
   "outputs": [],
   "source": [
    "#create the encoding of the images!\n",
    "def img_to_encoding(image_path, model):\n",
    "    img = tf.keras.preprocessing.image.load_img(image_path, target_size=(160, 160))\n",
    "    img = np.around(np.array(img) / 255.0, decimals=12)\n",
    "    x_train = np.expand_dims(img, axis=0)\n",
    "    embedding = model.predict_on_batch(x_train)\n",
    "    return embedding / np.linalg.norm(embedding, ord=2)"
   ]
  },
  {
   "cell_type": "code",
   "execution_count": 49,
   "metadata": {},
   "outputs": [],
   "source": [
    "a = img_to_encoding(mm2,FaceRecogModel)"
   ]
  },
  {
   "cell_type": "code",
   "execution_count": 31,
   "metadata": {},
   "outputs": [],
   "source": [
    "#create the database of the users! key is the name and value is the encoding value\n",
    "database = {}\n",
    "database['charchit'] = img_to_encoding(charchit_image_path,FaceRecogModel)\n",
    "database['aman'] = img_to_encoding(aman_image_path,FaceRecogModel)\n",
    "database['papa'] = img_to_encoding(papa_image_path,FaceRecogModel)\n",
    "database['mummy'] = img_to_encoding(mummy_image_path,FaceRecogModel)"
   ]
  },
  {
   "cell_type": "code",
   "execution_count": 32,
   "metadata": {},
   "outputs": [
    {
     "output_type": "execute_result",
     "data": {
      "text/plain": [
       "array([[ 0.01874726, -0.07499599, -0.0282793 , -0.10943334,  0.15293872,\n",
       "         0.11324125, -0.06566025,  0.0615065 ,  0.06459101,  0.0169149 ,\n",
       "         0.02558118,  0.00590753,  0.03023168, -0.14030972,  0.0472872 ,\n",
       "        -0.06745273,  0.01753765, -0.06992961,  0.07642013, -0.08882043,\n",
       "         0.01159177,  0.03147865, -0.07870072,  0.19004714, -0.02428116,\n",
       "        -0.09496091,  0.01540461,  0.06299015, -0.01089316, -0.07820318,\n",
       "         0.04826215, -0.02402242, -0.03399341, -0.06098218,  0.03467403,\n",
       "        -0.06061645, -0.05250282, -0.00322592,  0.11566826,  0.03488366,\n",
       "         0.00767145,  0.00624477,  0.09722745, -0.06317974, -0.17938863,\n",
       "        -0.07759193, -0.01169309, -0.10483155,  0.05767546,  0.0104583 ,\n",
       "        -0.07395659,  0.13654687,  0.15437137, -0.15690964,  0.00837531,\n",
       "         0.10969198,  0.00831949, -0.12206151, -0.1214805 , -0.1017717 ,\n",
       "        -0.06335504, -0.04564399, -0.016994  ,  0.14535485, -0.02845013,\n",
       "         0.09542878,  0.09182978,  0.01603114, -0.07571542, -0.02780669,\n",
       "         0.08321914, -0.09556656,  0.13695268, -0.20024842,  0.11842712,\n",
       "         0.01233638, -0.03156865,  0.17779835, -0.19988216,  0.03334666,\n",
       "        -0.07845778, -0.0177882 , -0.03156139,  0.00389537,  0.05846673,\n",
       "         0.06082012, -0.01412682, -0.06592193, -0.02995013,  0.07421506,\n",
       "         0.16753893, -0.00289376, -0.17989883,  0.02022898,  0.20005962,\n",
       "         0.03168838, -0.13086452, -0.12347522, -0.11425631, -0.02674587,\n",
       "         0.02281985,  0.11692481,  0.10665692, -0.09570726,  0.00636289,\n",
       "        -0.04328815,  0.05317862, -0.10240649,  0.02977971, -0.1235301 ,\n",
       "         0.00817787,  0.10026564,  0.00718145,  0.08122246,  0.00599273,\n",
       "        -0.00596736, -0.05870007,  0.15936173,  0.03934048,  0.06209865,\n",
       "        -0.10250912, -0.12061642,  0.15893811,  0.01221403,  0.07723143,\n",
       "        -0.15881568,  0.09915251,  0.05728983]], dtype=float32)"
      ]
     },
     "metadata": {},
     "execution_count": 32
    }
   ],
   "source": [
    "database['charchit']"
   ]
  },
  {
   "cell_type": "code",
   "execution_count": 36,
   "metadata": {},
   "outputs": [],
   "source": [
    "#function to verify is the two person's are same!\n",
    "def verify(image_path, identity, database, model):\n",
    "    \"\"\"\n",
    "    Function that verifies if the person on the \"image_path\" image is \"identity\".\n",
    "    \n",
    "    Arguments:\n",
    "        image_path -- path to an image\n",
    "        identity -- string, name of the person you'd like to verify the identity. Has to be an employee who works in the office.\n",
    "        database -- python dictionary mapping names of allowed people's names (strings) to their encodings (vectors).\n",
    "        model -- your Inception model instance in Keras\n",
    "    \n",
    "    Returns:\n",
    "        dist -- distance between the image_path and the image of \"identity\" in the database.\n",
    "        door_open -- True, if the door should open. False otherwise.\n",
    "    \"\"\"\n",
    "\n",
    "    # Step 1: Compute the encoding for the image. Use img_to_encoding() see example above. (≈ 1 line)\n",
    "    encoding = img_to_encoding(image_path, model)\n",
    "    # Step 2: Compute distance with identity's image (≈ 1 line)\n",
    "    dist = np.linalg.norm(encoding - database[identity])\n",
    "    # Step 3: Same person if dist < 0.7, else don't open (≈ 3 lines)\n",
    "    if dist<0.7:\n",
    "        print(\"It's \" + str(identity) + \", Hey! welcome!\")\n",
    "        door_open = True\n",
    "    else:\n",
    "        print(\"It's not \" + str(identity) + \", not the same person!\")\n",
    "        door_open = False\n",
    "   \n",
    "    return dist, door_open"
   ]
  },
  {
   "cell_type": "code",
   "execution_count": 48,
   "metadata": {},
   "outputs": [],
   "source": [
    "mm2 = '/home/charchit/Desktop/DLS/face_recog/dataset/mummy/mummy8.jpg'"
   ]
  },
  {
   "cell_type": "code",
   "execution_count": 43,
   "metadata": {},
   "outputs": [
    {
     "output_type": "stream",
     "name": "stdout",
     "text": [
      "It's not mummy, not the same person!\n"
     ]
    },
    {
     "output_type": "execute_result",
     "data": {
      "text/plain": [
       "(1.0290037, False)"
      ]
     },
     "metadata": {},
     "execution_count": 43
    }
   ],
   "source": [
    "verify(mm2,'mummy',database,FaceRecogModel)"
   ]
  },
  {
   "cell_type": "code",
   "execution_count": 56,
   "metadata": {},
   "outputs": [],
   "source": [
    "def who_is_it(image_path, database, model):\n",
    "    \"\"\"\n",
    "    Implements face recognition for the office by finding who is the person on the image_path image.\n",
    "    \n",
    "    Arguments:\n",
    "        image_path -- path to an image\n",
    "        database -- database containing image encodings along with the name of the person on the image\n",
    "        model -- your Inception model instance in Keras\n",
    "    \n",
    "    Returns:\n",
    "        min_dist -- the minimum distance between image_path encoding and the encodings from the database\n",
    "        identity -- string, the name prediction for the person on image_path\n",
    "    \"\"\"\n",
    "  \n",
    "    ## Step 1: Compute the target \"encoding\" for the image. Use img_to_encoding() see example above. ## (≈ 1 line)\n",
    "    encoding =  img_to_encoding(image_path,model)\n",
    "    \n",
    "    ## Step 2: Find the closest encoding ##\n",
    "    \n",
    "    # Initialize \"min_dist\" to a large value, say 100 (≈1 line)\n",
    "    min_dist = 100\n",
    "    \n",
    "    # Loop over the database dictionary's names and encodings.\n",
    "    for (name, db_enc) in database.items():\n",
    "        \n",
    "        # Compute L2 distance between the target \"encoding\" and the current db_enc from the database. (≈ 1 line)\n",
    "        dist = np.linalg.norm(encoding-db_enc)\n",
    "\n",
    "        # If this distance is less than the min_dist, then set min_dist to dist, and identity to name. (≈ 3 lines)\n",
    "        if dist<min_dist:\n",
    "            min_dist = dist\n",
    "            identity = name\n",
    "    \n",
    "    # if min_dist > 0.7:\n",
    "    #     print(\"Not in the database.\")\n",
    "    # else:\n",
    "    #     print (\"it's \" + str(identity) + \", the distance is \" + str(min_dist))\n",
    "        \n",
    "    return min_dist, identity"
   ]
  },
  {
   "cell_type": "code",
   "execution_count": 57,
   "metadata": {},
   "outputs": [
    {
     "output_type": "execute_result",
     "data": {
      "text/plain": [
       "(1.0290037, 'mummy')"
      ]
     },
     "metadata": {},
     "execution_count": 57
    }
   ],
   "source": [
    "who_is_it(mm2,database,FaceRecogModel)"
   ]
  },
  {
   "cell_type": "code",
   "execution_count": null,
   "metadata": {},
   "outputs": [],
   "source": []
  }
 ]
}